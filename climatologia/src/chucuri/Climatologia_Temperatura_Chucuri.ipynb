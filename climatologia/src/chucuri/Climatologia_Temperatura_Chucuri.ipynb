{
  "nbformat": 4,
  "nbformat_minor": 0,
  "metadata": {
    "kernelspec": {
      "display_name": "Python 3",
      "language": "python",
      "name": "python3"
    },
    "language_info": {
      "codemirror_mode": {
        "name": "ipython",
        "version": 3
      },
      "file_extension": ".py",
      "mimetype": "text/x-python",
      "name": "python",
      "nbconvert_exporter": "python",
      "pygments_lexer": "ipython3",
      "version": "3.8.5"
    },
    "colab": {
      "name": "Climatologia_Temperatura_Chucuri.ipynb",
      "provenance": [],
      "include_colab_link": true
    }
  },
  "cells": [
    {
      "cell_type": "markdown",
      "metadata": {
        "id": "view-in-github",
        "colab_type": "text"
      },
      "source": [
        "<a href=\"https://colab.research.google.com/github/chris051091/Seminario-3/blob/master/climatologia/src/chucuri/Climatologia_Temperatura_Chucuri.ipynb\" target=\"_parent\"><img src=\"https://colab.research.google.com/assets/colab-badge.svg\" alt=\"Open In Colab\"/></a>"
      ]
    },
    {
      "cell_type": "code",
      "metadata": {
        "colab": {
          "base_uri": "https://localhost:8080/"
        },
        "id": "ttfjM_oz-twM",
        "outputId": "f95d75d8-ff01-483c-d85e-5785c1537905"
      },
      "source": [
        "import pandas as pd\n",
        "import numpy as np\n",
        "import matplotlib.pyplot as plt\n",
        "from google.colab import drive\n",
        "drive.mount('/content/drive')"
      ],
      "execution_count": 1,
      "outputs": [
        {
          "output_type": "stream",
          "text": [
            "Mounted at /content/drive\n"
          ],
          "name": "stdout"
        }
      ]
    },
    {
      "cell_type": "code",
      "metadata": {
        "id": "nxHBlVd--y7e"
      },
      "source": [
        "PATH_DRIVE = 'drive/MyDrive/Seminario-3-master'\n",
        "PATH_DADOS = '/preprocess/dados/'\n",
        "NOMBRE_ESTACION = 'chucuri'\n",
        "\n",
        "PATH_FINAL_DADOS_TRATADOS = PATH_DRIVE + PATH_DADOS + NOMBRE_ESTACION + '/tratados/'\n",
        "\n",
        "FILE_DATOS_TRATADOS = NOMBRE_ESTACION.lower() + '_tratados_temp.csv'\n",
        "\n"
      ],
      "execution_count": 3,
      "outputs": []
    },
    {
      "cell_type": "code",
      "metadata": {
        "id": "VzS4glMb-twc"
      },
      "source": [
        "#Read the data\n",
        "\n",
        "df = pd.read_csv(PATH_FINAL_DADOS_TRATADOS + FILE_DATOS_TRATADOS,\n",
        "                 sep = ';', \n",
        "                #  parse_dates = [\"FECHA\"],\n",
        "                #  date_parser = lambda col: pd.to_datetime(col)\n",
        "                )"
      ],
      "execution_count": 7,
      "outputs": []
    },
    {
      "cell_type": "code",
      "metadata": {
        "id": "ec_atBtpPhc1"
      },
      "source": [
        "df['MES'] = df['FECHA'].apply(lambda x: x[5:7])\n",
        "df['HORA'] = df['FECHA'].apply(lambda x: x[11:13])"
      ],
      "execution_count": 11,
      "outputs": []
    },
    {
      "cell_type": "code",
      "metadata": {
        "id": "724-Q84JRxXn"
      },
      "source": [
        "xnr = ['12', '01', '02', '06', '07', '08']\n",
        "nrain = df[df['MES'].str.contains('|'.join(xnr))]\n",
        "ndf = nrain.groupby('HORA', group_keys=False).agg({'TEMP' : ['mean', 'std']}).reset_index(level=0)\n",
        "ndf['mean'] = ndf[('TEMP', 'mean')]\n",
        "ndf['std'] = ndf[('TEMP', 'std')]\n",
        "nrain = ndf[['HORA', 'mean', 'std']]"
      ],
      "execution_count": 47,
      "outputs": []
    },
    {
      "cell_type": "code",
      "metadata": {
        "id": "indu0JO4-twe"
      },
      "source": [
        "#Start every matrix\n",
        "## The matrix have 24 rows (hours of the day) and 12 columns (every station)\n",
        "\n",
        "nr_season = np.ones([24]) # Matrix for the no raining season mean\n",
        "r_season = np.ones([24]) # Matrix for the raining season mean\n",
        "snr_season = np.ones([24]) # Matrix for the no raining season std\n",
        "sr_season = np.ones([24]) # Matrix for the raining season std\n",
        "\n",
        "#Separate the seasons in dataframes\n",
        "##Start the dataframes\n",
        "nrain = pd.DataFrame()\n",
        "rain = pd.DataFrame()\n",
        "##Iniciate the month in every season\n",
        "xnr = ['12', '01', '02', '06', '07', '08']\n",
        "xr = ['03', '04', '05', '09', '10', '11']\n",
        "##y is to make the hourly calculation\n",
        "y = np.arange(0,24)\n",
        "\n",
        "##Merge the dataframe, so that it will be only one for every season\n",
        "nrain = df[df['MES'].str.contains('|'.join(xnr))] # DF con los datos de meses sin lluvia\n",
        "rain = df[df['MES'].str.contains('|'.join(xr))]   # DF con los datos de meses con lluvia\n",
        "\n",
        "\n",
        "#Fill the matrix of the no raining season\n",
        "nrdf = nrain.groupby('HORA', group_keys=False).agg({'TEMP' : ['mean', 'std']}).reset_index(level=0)\n",
        "nrdf['mean'] = nrdf[('TEMP', 'mean')]\n",
        "nrdf['std'] = nrdf[('TEMP', 'std')]\n",
        "nrain = nrdf[['HORA', 'mean', 'std']]\n",
        "\n",
        "\n",
        "#Do the same for the the raining season\n",
        "rdf = rain.groupby('HORA', group_keys=False).agg({'TEMP' : ['mean', 'std']}).reset_index(level=0)\n",
        "rdf['mean'] = rdf[('TEMP', 'mean')]\n",
        "rdf['std'] = rdf[('TEMP', 'std')]\n",
        "rain = rdf[['HORA', 'mean', 'std']]\n",
        "    \n",
        "# Notice that, if you want the values of a station you need to write nr_season[:,0]\n",
        "# Where 0 is the value of the first station of your file in this case, Suba"
      ],
      "execution_count": 48,
      "outputs": []
    },
    {
      "cell_type": "code",
      "metadata": {
        "colab": {
          "base_uri": "https://localhost:8080/",
          "height": 515
        },
        "id": "fpEqmCSx-twl",
        "outputId": "d36b7159-946b-40c6-8d13-d4cf27eec02d"
      },
      "source": [
        "#I made a plot in a very automatic way, you need to improve it, I think a plot matrix es better, but you need to check\n",
        "plt.figure(figsize = (12,8))\n",
        "color = ['b','orange', 'red', 'darkcyan', 'purple', 'k', 'brown', 'royalblue', 'b','orange', 'red', 'darkcyan']\n",
        "\n",
        "\n",
        "plt.plot(rain['mean'], color = 'b')\n",
        "plt.plot(rain['mean'] + rain['std'], color = 'b', linestyle = '--', linewidth = 0.5)\n",
        "plt.plot(rain['mean'] - rain['std'], color = 'b', linestyle = '--', linewidth = 0.5)\n",
        "\n",
        "plt.xlabel(\"Hora\")\n",
        "plt.ylabel(\"Temperatura\")"
      ],
      "execution_count": 49,
      "outputs": [
        {
          "output_type": "execute_result",
          "data": {
            "text/plain": [
              "Text(0, 0.5, 'Temperatura')"
            ]
          },
          "metadata": {
            "tags": []
          },
          "execution_count": 49
        },
        {
          "output_type": "display_data",
          "data": {
            "image/png": "[encoded data removed]",
            "text/plain": [
              "<Figure size 864x576 with 1 Axes>"
            ]
          },
          "metadata": {
            "tags": [],
            "needs_background": "light"
          }
        }
      ]
    },
    {
      "cell_type": "code",
      "metadata": {
        "id": "X_Y17rGn-twt"
      },
      "source": [
        ""
      ],
      "execution_count": null,
      "outputs": []
    }
  ]
}