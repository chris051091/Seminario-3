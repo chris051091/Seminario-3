{
 "cells": [
  {
   "cell_type": "code",
   "execution_count": 4,
   "metadata": {},
   "outputs": [
    {
     "name": "stderr",
     "output_type": "stream",
     "text": [
      "/srv/conda/envs/notebook/lib/python3.7/site-packages/ipykernel_launcher.py:78: RuntimeWarning: invalid value encountered in greater\n",
      "/srv/conda/envs/notebook/lib/python3.7/site-packages/ipykernel_launcher.py:79: RuntimeWarning: invalid value encountered in less\n"
     ]
    },
    {
     "data": {
      "image/png": "[encoded data removed]",
      "text/plain": [
       "<Figure size 432x288 with 1 Axes>"
      ]
     },
     "metadata": {
      "needs_background": "light"
     },
     "output_type": "display_data"
    },
    {
     "data": {
      "image/png": "[encoded data removed]",
      "text/plain": [
       "<Figure size 432x288 with 1 Axes>"
      ]
     },
     "metadata": {
      "needs_background": "light"
     },
     "output_type": "display_data"
    }
   ],
   "source": [
    "import numpy as np\n",
    "import os\n",
    "import datetime as dt\n",
    "import calendar\n",
    "import matplotlib.pyplot as plt\n",
    "import matplotlib.gridspec as gridspec\n",
    "from pylab import*\n",
    "\n",
    "\n",
    "MISS = -9999.9 # valor para asignarle a datos faltantes o invalidos\n",
    "\n",
    "sta = 'CHUCURI' # el nombre de la estacion \n",
    "var = 'TEMP'         # la variable a leer (como en el nombre del archivo)\n",
    "\n",
    "fname=os.popen('ls '+sta+'_*_'+var+'.txt').read().strip()\n",
    "f_in = open(fname,'r')\n",
    "lines=f_in.readlines() # todo el archivo se lee como texto, y cada linea queda guardada como un elemento de una lista\n",
    "f_in.close()\n",
    "\n",
    "# para cada variable a leer se define una lista:\n",
    "value = [] # value of variable read\n",
    "time  = [] # time coordinate as datetime object\n",
    "days  = [] # time coordinate in days since the first data point\n",
    "years = [] # time coordinate in years\n",
    "hour  = [] # local time in hours\n",
    "month = [] # month\n",
    "\n",
    "\n",
    "for line in lines[2:]: # se lee cada linea (excepto la primera)\n",
    "    data=line.strip().split() \n",
    "    if data!=[]:\n",
    "        valid=True\n",
    "        ignore=False\n",
    "        tt=data[1].split(':')\n",
    "        temp_time = dt.datetime(year=np.int(data[0][:4]),month=np.int(data[0][4:6]),day=np.int(data[0][6:]),hour=np.int(tt[0]),minute=np.int(tt[1]),second=np.int(tt[2]),microsecond=0)\n",
    "        if temp_time.second>=30: #aproxima la hora al minuto mas cercano\n",
    "            temp_time = temp_time+dt.timedelta(seconds=(60-temp_time.second))\n",
    "        if len(time)>0 and temp_time==time[-1]: # si ya existe un registro para la misma hora, se ignora\n",
    "            valid=False\n",
    "            ignore=True\n",
    "        if data[2][0]=='-': # dato faltante\n",
    "            valid=False\n",
    "        if not ignore:\n",
    "            if valid:\n",
    "                value.append(np.float(data[2])) \n",
    "            else:\n",
    "                value.append(np.nan)    # si hay dato faltante se guarda como np.nan\n",
    "            time.append(temp_time)      # para cada dato se guarda su fecha y hora como un objeto datetime\n",
    "            hour.append(temp_time.hour+temp_time.minute/60.+temp_time.second/3600.) # hora local en formato decimal\n",
    "            month.append(temp_time.month) # el mes\n",
    "            days.append((time[-1]-time[0]).total_seconds()/(3600.*24.)) # dias desde el primer registro\n",
    "            if calendar.isleap(time[-1].year):\n",
    "                N=366.\n",
    "            else:\n",
    "                N=365.\n",
    "            years.append(time[-1].year + ((time[-1].timetuple().tm_yday - 1.) + (time[-1].hour+time[-1].minute/60. + time[-1].second/3600.)/24.)/N ) # tiempo en agnos (decimal)\n",
    "\n",
    "# se convierten las listas a \"arrays\"\n",
    "value   = np.asarray(value)\n",
    "days    = np.asarray(days)\n",
    "years   = np.asarray(years)\n",
    "hour    = np.asarray(hour)\n",
    "month   = np.asarray(month)\n",
    "year    = years.astype(int)\n",
    "\n",
    "plt.figure()\n",
    "plt.title('datos crudos')\n",
    "plt.plot(years,value)\n",
    "plt.xlabel('year')\n",
    "plt.ylabel(var + '_(°C)')\n",
    "\n",
    "\n",
    "if var=='TEMP':\n",
    "    vmax=50.\n",
    "    vmin=15.\n",
    "\n",
    "value_v2 = value\n",
    "ind_atipicos1 = np.where(value>vmax)\n",
    "ind_atipicos2 = np.where(value<vmin)\n",
    "value_v2[ind_atipicos1]=value_v2[ind_atipicos2]=np.nan\n",
    "# esto mismo se podria hacer en una sola linea:\n",
    "#value_v2[np.where((value>vmax)+(value<vmin))]=np.nan\n",
    "\n",
    "plt.figure()\n",
    "plt.title('datos primera revision')\n",
    "plt.plot(years,value_v2)\n",
    "plt.xlabel('year')\n",
    "plt.ylabel(var + '_(°C)' )\n",
    "plt.show()\n",
    "\n",
    "\n",
    "# se escriben los datos revisados a otro archivo de texto:\n",
    "f_out = open(sta+'_'+var+'_v2.txt','w')\n",
    "value_v2[np.where(np.isnan(value_v2))]=MISS\n",
    "for i in range(value_v2.shape[0]):\n",
    "    f_out.write('%04d %02d %02d %02d %02d %02d %.1f\\n'%(time[i].year,time[i].month,time[i].day,time[i].hour,time[i].minute,time[i].second,value_v2[i]))\n",
    "value_v2[np.where(value==MISS)]=np.nan\n",
    "f_out.close()"
   ]
  },
  {
   "cell_type": "code",
   "execution_count": 7,
   "metadata": {},
   "outputs": [
    {
     "data": {
      "text/plain": [
       "50279"
      ]
     },
     "execution_count": 7,
     "metadata": {},
     "output_type": "execute_result"
    }
   ],
   "source": [
    "len(value)"
   ]
  },
  {
   "cell_type": "code",
   "execution_count": 8,
   "metadata": {},
   "outputs": [
    {
     "data": {
      "text/plain": [
       "array([20.6, 20.4, 20.2, ..., 20.4, 20.8, 20.6])"
      ]
     },
     "execution_count": 8,
     "metadata": {},
     "output_type": "execute_result"
    }
   ],
   "source": [
    "value_v2"
   ]
  },
  {
   "cell_type": "code",
   "execution_count": 13,
   "metadata": {},
   "outputs": [
    {
     "data": {
      "text/plain": [
       "array([ 1.,  2.,  3., ..., 21., 22., 23.])"
      ]
     },
     "execution_count": 13,
     "metadata": {},
     "output_type": "execute_result"
    }
   ],
   "source": [
    "hour"
   ]
  },
  {
   "cell_type": "code",
   "execution_count": 14,
   "metadata": {},
   "outputs": [
    {
     "data": {
      "text/plain": [
       "50279"
      ]
     },
     "execution_count": 14,
     "metadata": {},
     "output_type": "execute_result"
    }
   ],
   "source": [
    "len(hour)"
   ]
  },
  {
   "cell_type": "code",
   "execution_count": 15,
   "metadata": {},
   "outputs": [
    {
     "data": {
      "text/plain": [
       "50279"
      ]
     },
     "execution_count": 15,
     "metadata": {},
     "output_type": "execute_result"
    }
   ],
   "source": [
    "len(year)"
   ]
  },
  {
   "cell_type": "code",
   "execution_count": 16,
   "metadata": {},
   "outputs": [
    {
     "data": {
      "text/plain": [
       "array([2011, 2011, 2011, ..., 2017, 2017, 2017])"
      ]
     },
     "execution_count": 16,
     "metadata": {},
     "output_type": "execute_result"
    }
   ],
   "source": [
    "year"
   ]
  },
  {
   "cell_type": "code",
   "execution_count": null,
   "metadata": {},
   "outputs": [],
   "source": []
  }
 ],
 "metadata": {
  "kernelspec": {
   "display_name": "Python 3",
   "language": "python",
   "name": "python3"
  },
  "language_info": {
   "codemirror_mode": {
    "name": "ipython",
    "version": 3
   },
   "file_extension": ".py",
   "mimetype": "text/x-python",
   "name": "python",
   "nbconvert_exporter": "python",
   "pygments_lexer": "ipython3",
   "version": "3.7.6"
  }
 },
 "nbformat": 4,
 "nbformat_minor": 4
}
