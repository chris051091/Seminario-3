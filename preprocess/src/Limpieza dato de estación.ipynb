{
 "cells": [
  {
   "cell_type": "markdown",
   "metadata": {},
   "source": [
    "# Limpieza dato de estación\n",
    "\n",
    "Este script realiza la lectura de los datos de eventos que está en formato TXT, hace un pre-procesamiento de los mismos e guarda dentro de una planilla CSV para que sean usados posteriormente dentro de los análisis.\n",
    "\n",
    "Para una misma estácion, todos los datos serna juntados para criar una única tabela\n"
   ]
  },
  {
   "cell_type": "code",
   "execution_count": 1,
   "metadata": {},
   "outputs": [],
   "source": [
    "import pandas as pd\n",
    "import numpy as np\n",
    "import os\n",
    "import re\n",
    "from functools import reduce"
   ]
  },
  {
   "cell_type": "code",
   "execution_count": 2,
   "metadata": {},
   "outputs": [],
   "source": [
    "PATH_DADOS = '../dados/'\n",
    "NOMBRE_ESTACION = 'CHUCURI'\n",
    "FILE_DATOS_PROCESADOS = NOMBRE_ESTACION.lower() + '_procesado.csv'"
   ]
  },
  {
   "cell_type": "code",
   "execution_count": 3,
   "metadata": {},
   "outputs": [
    {
     "name": "stdout",
     "output_type": "stream",
     "text": [
      "CHUCURI_24055070_DIRECVIENTO.txt\n",
      "CHUCURI_24055070_VELVIENTO.txt\n",
      "CHUCURI_24055070_PREC.txt\n",
      "CHUCURI_24055070_TEMP.txt\n",
      "CHUCURI_24055070_HUM.txt\n",
      "CHUCURI_24055070_PRESION.txt\n"
     ]
    }
   ],
   "source": [
    "fname = os.listdir(PATH_DADOS + NOMBRE_ESTACION.lower())\n",
    "\n",
    "list_df = []\n",
    "\n",
    "for file in fname:\n",
    "    print(file)\n",
    "    name_column_data = re.search(r\"^.*_(.*)\\.txt\", file).group(1)\n",
    "    with open(f'{PATH_DADOS}{NOMBRE_ESTACION.lower()}/{file}') as f:\n",
    "        next(f); next(f) # Saltando dos lineas\n",
    "        list_data = []\n",
    "        for line in f:\n",
    "            dict_data = {}\n",
    "            if line:\n",
    "                line_split = line.strip().split()\n",
    "                dict_data['FECHA'] = ''.join(line_split[0:2])\n",
    "                dict_data[name_column_data] = line_split[2]\n",
    "                list_data.append(dict_data)\n",
    "    \n",
    "    df = pd.DataFrame(list_data)\n",
    "    list_df.append(df)\n",
    "                "
   ]
  },
  {
   "cell_type": "code",
   "execution_count": 4,
   "metadata": {},
   "outputs": [],
   "source": [
    "# Reduciendo dataframes en uno solo\n",
    "df = reduce(lambda df1,df2: pd.merge(df1,df2,on='FECHA', how='outer'), list_df)\n",
    "\n",
    "# Formatando data\n",
    "df['FECHA'] = pd.to_datetime(df['FECHA'], format='%Y%m%d%H:%M:%S').dt.tz_localize('America/Bogota')"
   ]
  },
  {
   "cell_type": "code",
   "execution_count": 5,
   "metadata": {},
   "outputs": [],
   "source": [
    "columns = [col for col in df.columns if col != 'FECHA']\n",
    "\n",
    "for col in columns:\n",
    "    # Substituyendo valores no encontrados por np.nan\n",
    "    df[col] = df[col].replace(['---[10]', '---[2]', '---[5]', '---[15]', '---'], np.NaN)\n",
    "    # Transformando en formato numérico\n",
    "    df[col] = pd.to_numeric(df[col], downcast=\"float\")"
   ]
  },
  {
   "cell_type": "code",
   "execution_count": 6,
   "metadata": {},
   "outputs": [],
   "source": [
    "df.to_csv(PATH_DADOS + FILE_DATOS_PROCESADOS, header=True, index=False, sep = ';')"
   ]
  }
 ],
 "metadata": {
  "kernelspec": {
   "display_name": "Python 3",
   "language": "python",
   "name": "python3"
  },
  "language_info": {
   "codemirror_mode": {
    "name": "ipython",
    "version": 3
   },
   "file_extension": ".py",
   "mimetype": "text/x-python",
   "name": "python",
   "nbconvert_exporter": "python",
   "pygments_lexer": "ipython3",
   "version": "3.8.5"
  }
 },
 "nbformat": 4,
 "nbformat_minor": 4
}
