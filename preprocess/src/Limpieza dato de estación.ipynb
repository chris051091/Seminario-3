{
  "nbformat": 4,
  "nbformat_minor": 0,
  "metadata": {
    "kernelspec": {
      "display_name": "Python 3",
      "language": "python",
      "name": "python3"
    },
    "language_info": {
      "codemirror_mode": {
        "name": "ipython",
        "version": 3
      },
      "file_extension": ".py",
      "mimetype": "text/x-python",
      "name": "python",
      "nbconvert_exporter": "python",
      "pygments_lexer": "ipython3",
      "version": "3.8.5"
    },
    "colab": {
      "name": "Limpieza dato de estación.ipynb",
      "provenance": []
    }
  },
  "cells": [
    {
      "cell_type": "markdown",
      "metadata": {
        "id": "gaa419ELF9UX"
      },
      "source": [
        "# Limpieza dato de estación\n",
        "\n",
        "Este script realiza la lectura de los datos de eventos que está en formato TXT, hace un pre-procesamiento de los mismos e guarda dentro de una planilla CSV para que sean usados posteriormente dentro de los análisis.\n",
        "\n",
        "Para una misma estácion, todos los datos serna juntados para criar una única tabela\n"
      ]
    },
    {
      "cell_type": "code",
      "metadata": {
        "id": "mmhW--NrF9Ul",
        "outputId": "6884abcd-9da0-45ad-f285-505842403cda",
        "colab": {
          "base_uri": "https://localhost:8080/"
        }
      },
      "source": [
        "import pandas as pd\n",
        "import numpy as np\n",
        "import os\n",
        "import re\n",
        "from functools import reduce\n",
        "from google.colab import drive\n",
        "drive.mount('/content/drive')"
      ],
      "execution_count": 1,
      "outputs": [
        {
          "output_type": "stream",
          "text": [
            "Mounted at /content/drive\n"
          ],
          "name": "stdout"
        }
      ]
    },
    {
      "cell_type": "code",
      "metadata": {
        "id": "Vx2FeZOvF9Um"
      },
      "source": [
        "PATH_DRIVE = 'drive/MyDrive/Seminario-3-master'\n",
        "PATH_DADOS = '/preprocess/dados/'\n",
        "NOMBRE_ESTACION = 'chucuri'\n",
        "PATH_TIPO_DADO = '/hora/'\n",
        "FILE_DATOS_PROCESADOS = NOMBRE_ESTACION.lower() + '_procesado.csv'\n",
        "\n",
        "PATH_FINAL_DADOS = PATH_DRIVE + PATH_DADOS + NOMBRE_ESTACION + PATH_TIPO_DADO"
      ],
      "execution_count": 8,
      "outputs": []
    },
    {
      "cell_type": "code",
      "metadata": {
        "id": "kefkOvciF9Un",
        "outputId": "2f3adc62-0934-4fdd-db8d-6177f8771e2a",
        "colab": {
          "base_uri": "https://localhost:8080/"
        }
      },
      "source": [
        "fname = os.listdir(PATH_FINAL_DADOS)\n",
        "\n",
        "list_df = []\n",
        "\n",
        "for file in fname:\n",
        "    print(file)\n",
        "    name_column_data = re.search(r\"^.*_(.*)\\.txt\", file).group(1)\n",
        "    with open(f'{PATH_FINAL_DADOS}{file}') as f:\n",
        "        next(f); next(f) # Saltando dos lineas\n",
        "        list_data = []\n",
        "        for line in f:\n",
        "            dict_data = {}\n",
        "            if line:\n",
        "                line_split = line.strip().split()\n",
        "                dict_data['FECHA'] = ''.join(line_split[0:2])\n",
        "                dict_data[name_column_data] = line_split[2]\n",
        "                list_data.append(dict_data)\n",
        "    \n",
        "    df = pd.DataFrame(list_data)\n",
        "    list_df.append(df)\n",
        "                "
      ],
      "execution_count": 15,
      "outputs": [
        {
          "output_type": "stream",
          "text": [
            "CHUCURI_24055070_HUM.txt\n",
            "CHUCURI_24055070_TEMP.txt\n",
            "CHUCURI_24055070_PRESION.txt\n"
          ],
          "name": "stdout"
        }
      ]
    },
    {
      "cell_type": "code",
      "metadata": {
        "id": "2BBJ-0JXF9Up"
      },
      "source": [
        "# Reduciendo dataframes en uno solo\n",
        "df = reduce(lambda df1,df2: pd.merge(df1,df2,on='FECHA', how='outer'), list_df)\n",
        "\n",
        "# Formatando data\n",
        "df['FECHA'] = pd.to_datetime(df['FECHA'], format='%Y%m%d%H:%M:%S').dt.tz_localize('America/Bogota')"
      ],
      "execution_count": 16,
      "outputs": []
    },
    {
      "cell_type": "code",
      "metadata": {
        "id": "cKSrsuT7JhVN",
        "outputId": "f2aca169-b4c8-48b4-c67d-d2990111ee97",
        "colab": {
          "base_uri": "https://localhost:8080/",
          "height": 424
        }
      },
      "source": [
        "df"
      ],
      "execution_count": 19,
      "outputs": [
        {
          "output_type": "execute_result",
          "data": {
            "text/html": [
              "<div>\n",
              "<style scoped>\n",
              "    .dataframe tbody tr th:only-of-type {\n",
              "        vertical-align: middle;\n",
              "    }\n",
              "\n",
              "    .dataframe tbody tr th {\n",
              "        vertical-align: top;\n",
              "    }\n",
              "\n",
              "    .dataframe thead th {\n",
              "        text-align: right;\n",
              "    }\n",
              "</style>\n",
              "<table border=\"1\" class=\"dataframe\">\n",
              "  <thead>\n",
              "    <tr style=\"text-align: right;\">\n",
              "      <th></th>\n",
              "      <th>FECHA</th>\n",
              "      <th>HUM</th>\n",
              "      <th>TEMP</th>\n",
              "      <th>PRESION</th>\n",
              "    </tr>\n",
              "  </thead>\n",
              "  <tbody>\n",
              "    <tr>\n",
              "      <th>0</th>\n",
              "      <td>2011-10-24 01:00:00-05:00</td>\n",
              "      <td>NaN</td>\n",
              "      <td>NaN</td>\n",
              "      <td>NaN</td>\n",
              "    </tr>\n",
              "    <tr>\n",
              "      <th>1</th>\n",
              "      <td>2011-10-24 02:00:00-05:00</td>\n",
              "      <td>NaN</td>\n",
              "      <td>NaN</td>\n",
              "      <td>NaN</td>\n",
              "    </tr>\n",
              "    <tr>\n",
              "      <th>2</th>\n",
              "      <td>2011-10-24 03:00:00-05:00</td>\n",
              "      <td>NaN</td>\n",
              "      <td>NaN</td>\n",
              "      <td>NaN</td>\n",
              "    </tr>\n",
              "    <tr>\n",
              "      <th>3</th>\n",
              "      <td>2011-10-24 04:00:00-05:00</td>\n",
              "      <td>NaN</td>\n",
              "      <td>NaN</td>\n",
              "      <td>NaN</td>\n",
              "    </tr>\n",
              "    <tr>\n",
              "      <th>4</th>\n",
              "      <td>2011-10-24 05:00:00-05:00</td>\n",
              "      <td>NaN</td>\n",
              "      <td>NaN</td>\n",
              "      <td>NaN</td>\n",
              "    </tr>\n",
              "    <tr>\n",
              "      <th>...</th>\n",
              "      <td>...</td>\n",
              "      <td>...</td>\n",
              "      <td>...</td>\n",
              "      <td>...</td>\n",
              "    </tr>\n",
              "    <tr>\n",
              "      <th>50278</th>\n",
              "      <td>2017-12-25 04:00:00-05:00</td>\n",
              "      <td>NaN</td>\n",
              "      <td>NaN</td>\n",
              "      <td>NaN</td>\n",
              "    </tr>\n",
              "    <tr>\n",
              "      <th>50279</th>\n",
              "      <td>2017-12-25 05:00:00-05:00</td>\n",
              "      <td>NaN</td>\n",
              "      <td>NaN</td>\n",
              "      <td>NaN</td>\n",
              "    </tr>\n",
              "    <tr>\n",
              "      <th>50280</th>\n",
              "      <td>2017-12-25 06:00:00-05:00</td>\n",
              "      <td>NaN</td>\n",
              "      <td>NaN</td>\n",
              "      <td>NaN</td>\n",
              "    </tr>\n",
              "    <tr>\n",
              "      <th>50281</th>\n",
              "      <td>2017-12-25 07:00:00-05:00</td>\n",
              "      <td>NaN</td>\n",
              "      <td>NaN</td>\n",
              "      <td>NaN</td>\n",
              "    </tr>\n",
              "    <tr>\n",
              "      <th>50282</th>\n",
              "      <td>2017-12-25 08:00:00-05:00</td>\n",
              "      <td>NaN</td>\n",
              "      <td>NaN</td>\n",
              "      <td>NaN</td>\n",
              "    </tr>\n",
              "  </tbody>\n",
              "</table>\n",
              "<p>50283 rows × 4 columns</p>\n",
              "</div>"
            ],
            "text/plain": [
              "                          FECHA  HUM  TEMP  PRESION\n",
              "0     2011-10-24 01:00:00-05:00  NaN   NaN      NaN\n",
              "1     2011-10-24 02:00:00-05:00  NaN   NaN      NaN\n",
              "2     2011-10-24 03:00:00-05:00  NaN   NaN      NaN\n",
              "3     2011-10-24 04:00:00-05:00  NaN   NaN      NaN\n",
              "4     2011-10-24 05:00:00-05:00  NaN   NaN      NaN\n",
              "...                         ...  ...   ...      ...\n",
              "50278 2017-12-25 04:00:00-05:00  NaN   NaN      NaN\n",
              "50279 2017-12-25 05:00:00-05:00  NaN   NaN      NaN\n",
              "50280 2017-12-25 06:00:00-05:00  NaN   NaN      NaN\n",
              "50281 2017-12-25 07:00:00-05:00  NaN   NaN      NaN\n",
              "50282 2017-12-25 08:00:00-05:00  NaN   NaN      NaN\n",
              "\n",
              "[50283 rows x 4 columns]"
            ]
          },
          "metadata": {
            "tags": []
          },
          "execution_count": 19
        }
      ]
    },
    {
      "cell_type": "code",
      "metadata": {
        "id": "YR-0UY99F9Ur"
      },
      "source": [
        "columns = [col for col in df.columns if col != 'FECHA']\n",
        "\n",
        "for col in columns:\n",
        "    # Substituyendo valores no encontrados por np.nan\n",
        "    df[col] = df[col].replace(['---[10]', '---[2]', '---[5]', '---[15]', '---'], np.NaN)\n",
        "    # Transformando en formato numérico\n",
        "    df[col] = pd.to_numeric(df[col], downcast=\"float\")"
      ],
      "execution_count": 18,
      "outputs": []
    },
    {
      "cell_type": "code",
      "metadata": {
        "id": "r_f--joiF9Us"
      },
      "source": [
        "df.to_csv(PATH_FINAL_DADOS + '../' + FILE_DATOS_PROCESADOS, header=True, index=False, sep = ';')"
      ],
      "execution_count": 20,
      "outputs": []
    }
  ]
}