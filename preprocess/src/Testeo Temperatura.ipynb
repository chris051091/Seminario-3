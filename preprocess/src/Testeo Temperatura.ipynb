{
 "cells": [
  {
   "cell_type": "markdown",
   "metadata": {},
   "source": [
    "# Testes - Temperatura\n",
    "\n",
    "Una vez que los datos son alistados, se realiza el análisis de testes. \n",
    "\n",
    "Para temperatura, se consideran los siguientes testes:\n",
    "\n",
    "- Test de rango fijo\n",
    "- Tests de consistencia interna\n",
    "- Test de ceros\n",
    "- Test para el salto térmico diario\n",
    "- Tests de rango dinámico, consistencia temporal, persistencia y coherencia espacial"
   ]
  },
  {
   "cell_type": "code",
   "execution_count": 2,
   "metadata": {},
   "outputs": [],
   "source": [
    "import pandas as pd\n",
    "import numpy as np\n",
    "import os\n",
    "import re\n",
    "from functools import reduce"
   ]
  },
  {
   "cell_type": "code",
   "execution_count": 3,
   "metadata": {},
   "outputs": [],
   "source": [
    "PATH_DADOS = '../dados/'\n",
    "NOMBRE_ESTACION = 'CHUCURI'\n",
    "FILE_DATOS_PROCESADOS = NOMBRE_ESTACION.lower() + '_procesado.csv'"
   ]
  },
  {
   "cell_type": "code",
   "execution_count": 49,
   "metadata": {},
   "outputs": [
    {
     "data": {
      "text/html": [
       "<div>\n",
       "<style scoped>\n",
       "    .dataframe tbody tr th:only-of-type {\n",
       "        vertical-align: middle;\n",
       "    }\n",
       "\n",
       "    .dataframe tbody tr th {\n",
       "        vertical-align: top;\n",
       "    }\n",
       "\n",
       "    .dataframe thead th {\n",
       "        text-align: right;\n",
       "    }\n",
       "</style>\n",
       "<table border=\"1\" class=\"dataframe\">\n",
       "  <thead>\n",
       "    <tr style=\"text-align: right;\">\n",
       "      <th></th>\n",
       "      <th>FECHA</th>\n",
       "      <th>TEMP</th>\n",
       "    </tr>\n",
       "  </thead>\n",
       "  <tbody>\n",
       "    <tr>\n",
       "      <th>0</th>\n",
       "      <td>2011-01-01 01:00:00-05:00</td>\n",
       "      <td>20.6</td>\n",
       "    </tr>\n",
       "    <tr>\n",
       "      <th>1</th>\n",
       "      <td>2011-01-01 02:00:00-05:00</td>\n",
       "      <td>20.4</td>\n",
       "    </tr>\n",
       "    <tr>\n",
       "      <th>2</th>\n",
       "      <td>2011-01-01 03:00:00-05:00</td>\n",
       "      <td>20.2</td>\n",
       "    </tr>\n",
       "    <tr>\n",
       "      <th>3</th>\n",
       "      <td>2011-01-01 04:00:00-05:00</td>\n",
       "      <td>19.4</td>\n",
       "    </tr>\n",
       "    <tr>\n",
       "      <th>4</th>\n",
       "      <td>2011-01-01 05:00:00-05:00</td>\n",
       "      <td>19.2</td>\n",
       "    </tr>\n",
       "    <tr>\n",
       "      <th>...</th>\n",
       "      <td>...</td>\n",
       "      <td>...</td>\n",
       "    </tr>\n",
       "    <tr>\n",
       "      <th>266158</th>\n",
       "      <td>2017-12-31 23:10:00-05:00</td>\n",
       "      <td>NaN</td>\n",
       "    </tr>\n",
       "    <tr>\n",
       "      <th>266159</th>\n",
       "      <td>2017-12-31 23:20:00-05:00</td>\n",
       "      <td>NaN</td>\n",
       "    </tr>\n",
       "    <tr>\n",
       "      <th>266160</th>\n",
       "      <td>2017-12-31 23:30:00-05:00</td>\n",
       "      <td>NaN</td>\n",
       "    </tr>\n",
       "    <tr>\n",
       "      <th>266161</th>\n",
       "      <td>2017-12-31 23:40:00-05:00</td>\n",
       "      <td>NaN</td>\n",
       "    </tr>\n",
       "    <tr>\n",
       "      <th>266162</th>\n",
       "      <td>2017-12-31 23:50:00-05:00</td>\n",
       "      <td>NaN</td>\n",
       "    </tr>\n",
       "  </tbody>\n",
       "</table>\n",
       "<p>266163 rows × 2 columns</p>\n",
       "</div>"
      ],
      "text/plain": [
       "                           FECHA  TEMP\n",
       "0      2011-01-01 01:00:00-05:00  20.6\n",
       "1      2011-01-01 02:00:00-05:00  20.4\n",
       "2      2011-01-01 03:00:00-05:00  20.2\n",
       "3      2011-01-01 04:00:00-05:00  19.4\n",
       "4      2011-01-01 05:00:00-05:00  19.2\n",
       "...                          ...   ...\n",
       "266158 2017-12-31 23:10:00-05:00   NaN\n",
       "266159 2017-12-31 23:20:00-05:00   NaN\n",
       "266160 2017-12-31 23:30:00-05:00   NaN\n",
       "266161 2017-12-31 23:40:00-05:00   NaN\n",
       "266162 2017-12-31 23:50:00-05:00   NaN\n",
       "\n",
       "[266163 rows x 2 columns]"
      ]
     },
     "execution_count": 49,
     "metadata": {},
     "output_type": "execute_result"
    }
   ],
   "source": [
    "df = pd.read_csv(PATH_DADOS + FILE_DATOS_PROCESADOS, \n",
    "                 sep = ';', \n",
    "                 parse_dates = [\"FECHA\"],\n",
    "                 date_parser = lambda col: pd.to_datetime(col)\n",
    "                )\n",
    "\n",
    "dfTemp = df[['FECHA', 'TEMP']].copy()\n",
    "dfTemp = dfTemp.sort_values(by=['FECHA']).reset_index(drop = True)\n",
    "dfTemp"
   ]
  },
  {
   "cell_type": "code",
   "execution_count": 50,
   "metadata": {},
   "outputs": [
    {
     "data": {
      "text/html": [
       "<div>\n",
       "<style scoped>\n",
       "    .dataframe tbody tr th:only-of-type {\n",
       "        vertical-align: middle;\n",
       "    }\n",
       "\n",
       "    .dataframe tbody tr th {\n",
       "        vertical-align: top;\n",
       "    }\n",
       "\n",
       "    .dataframe thead th {\n",
       "        text-align: right;\n",
       "    }\n",
       "</style>\n",
       "<table border=\"1\" class=\"dataframe\">\n",
       "  <thead>\n",
       "    <tr style=\"text-align: right;\">\n",
       "      <th></th>\n",
       "      <th>FECHA</th>\n",
       "      <th>TEMP</th>\n",
       "    </tr>\n",
       "  </thead>\n",
       "  <tbody>\n",
       "    <tr>\n",
       "      <th>0</th>\n",
       "      <td>2011-01-01 01:00:00-05:00</td>\n",
       "      <td>20.6</td>\n",
       "    </tr>\n",
       "    <tr>\n",
       "      <th>1</th>\n",
       "      <td>2011-01-01 02:00:00-05:00</td>\n",
       "      <td>20.4</td>\n",
       "    </tr>\n",
       "    <tr>\n",
       "      <th>2</th>\n",
       "      <td>2011-01-01 03:00:00-05:00</td>\n",
       "      <td>20.2</td>\n",
       "    </tr>\n",
       "    <tr>\n",
       "      <th>3</th>\n",
       "      <td>2011-01-01 04:00:00-05:00</td>\n",
       "      <td>19.4</td>\n",
       "    </tr>\n",
       "    <tr>\n",
       "      <th>4</th>\n",
       "      <td>2011-01-01 05:00:00-05:00</td>\n",
       "      <td>19.2</td>\n",
       "    </tr>\n",
       "    <tr>\n",
       "      <th>...</th>\n",
       "      <td>...</td>\n",
       "      <td>...</td>\n",
       "    </tr>\n",
       "    <tr>\n",
       "      <th>266158</th>\n",
       "      <td>2017-12-31 23:10:00-05:00</td>\n",
       "      <td>NaN</td>\n",
       "    </tr>\n",
       "    <tr>\n",
       "      <th>266159</th>\n",
       "      <td>2017-12-31 23:20:00-05:00</td>\n",
       "      <td>NaN</td>\n",
       "    </tr>\n",
       "    <tr>\n",
       "      <th>266160</th>\n",
       "      <td>2017-12-31 23:30:00-05:00</td>\n",
       "      <td>NaN</td>\n",
       "    </tr>\n",
       "    <tr>\n",
       "      <th>266161</th>\n",
       "      <td>2017-12-31 23:40:00-05:00</td>\n",
       "      <td>NaN</td>\n",
       "    </tr>\n",
       "    <tr>\n",
       "      <th>266162</th>\n",
       "      <td>2017-12-31 23:50:00-05:00</td>\n",
       "      <td>NaN</td>\n",
       "    </tr>\n",
       "  </tbody>\n",
       "</table>\n",
       "<p>266163 rows × 2 columns</p>\n",
       "</div>"
      ],
      "text/plain": [
       "                           FECHA  TEMP\n",
       "0      2011-01-01 01:00:00-05:00  20.6\n",
       "1      2011-01-01 02:00:00-05:00  20.4\n",
       "2      2011-01-01 03:00:00-05:00  20.2\n",
       "3      2011-01-01 04:00:00-05:00  19.4\n",
       "4      2011-01-01 05:00:00-05:00  19.2\n",
       "...                          ...   ...\n",
       "266158 2017-12-31 23:10:00-05:00   NaN\n",
       "266159 2017-12-31 23:20:00-05:00   NaN\n",
       "266160 2017-12-31 23:30:00-05:00   NaN\n",
       "266161 2017-12-31 23:40:00-05:00   NaN\n",
       "266162 2017-12-31 23:50:00-05:00   NaN\n",
       "\n",
       "[266163 rows x 2 columns]"
      ]
     },
     "execution_count": 50,
     "metadata": {},
     "output_type": "execute_result"
    }
   ],
   "source": [
    "t_max = 50.\n",
    "t_min = 15.\n",
    "lamb_func = lambda r: np.nan if ((r > t_max) | (r < t_min)) else r\n",
    "dfTemp['TEMP'] = dfTemp['TEMP'].apply(lamb_func)\n",
    "dfTemp"
   ]
  },
  {
   "cell_type": "code",
   "execution_count": 39,
   "metadata": {},
   "outputs": [
    {
     "data": {
      "text/plain": [
       "30.0"
      ]
     },
     "execution_count": 39,
     "metadata": {},
     "output_type": "execute_result"
    }
   ],
   "source": [
    "r = 30.\n",
    "np.nan if ((r > t_max) | (r < t_min)) else r"
   ]
  },
  {
   "cell_type": "code",
   "execution_count": 18,
   "metadata": {},
   "outputs": [],
   "source": [
    "# Reduciendo dataframes en uno solo\n",
    "df = reduce(lambda df1,df2: pd.merge(df1,df2,on='FECHA', how='outer'), list_df)\n",
    "\n",
    "# Formatando data\n",
    "df['FECHA'] = pd.to_datetime(df['FECHA'], format='%Y%m%d%H:%M:%S').dt.tz_localize('America/Bogota')"
   ]
  },
  {
   "cell_type": "code",
   "execution_count": 27,
   "metadata": {},
   "outputs": [],
   "source": [
    "columns = [col for col in df.columns if col != 'FECHA']\n",
    "\n",
    "for col in columns:\n",
    "    # Substituyendo valores no encontrados por np.nan\n",
    "    df[col] = df[col].replace(['---[10]', '---[2]', '---[5]', '---[15]', '---'], np.NaN)\n",
    "    # Transformando en formato numérico\n",
    "    df[col] = pd.to_numeric(df[col], downcast=\"float\")"
   ]
  },
  {
   "cell_type": "code",
   "execution_count": 39,
   "metadata": {},
   "outputs": [],
   "source": [
    "df.to_csv(PATH_DADOS + FILE_DATOS_PROCESADOS, header=True, index=False, sep = ';')"
   ]
  }
 ],
 "metadata": {
  "kernelspec": {
   "display_name": "Python 3",
   "language": "python",
   "name": "python3"
  },
  "language_info": {
   "codemirror_mode": {
    "name": "ipython",
    "version": 3
   },
   "file_extension": ".py",
   "mimetype": "text/x-python",
   "name": "python",
   "nbconvert_exporter": "python",
   "pygments_lexer": "ipython3",
   "version": "3.8.5"
  }
 },
 "nbformat": 4,
 "nbformat_minor": 4
}
