{
  "nbformat": 4,
  "nbformat_minor": 0,
  "metadata": {
    "kernelspec": {
      "display_name": "Python 3",
      "language": "python",
      "name": "python3"
    },
    "language_info": {
      "codemirror_mode": {
        "name": "ipython",
        "version": 3
      },
      "file_extension": ".py",
      "mimetype": "text/x-python",
      "name": "python",
      "nbconvert_exporter": "python",
      "pygments_lexer": "ipython3",
      "version": "3.8.5"
    },
    "colab": {
      "name": "Testeo Temperatura.ipynb",
      "provenance": [],
      "include_colab_link": true
    }
  },
  "cells": [
    {
      "cell_type": "markdown",
      "metadata": {
        "id": "view-in-github",
        "colab_type": "text"
      },
      "source": [
        "<a href=\"https://colab.research.google.com/github/chris051091/Seminario-3/blob/master/preprocess/src/Testeo%20Temperatura.ipynb\" target=\"_parent\"><img src=\"https://colab.research.google.com/assets/colab-badge.svg\" alt=\"Open In Colab\"/></a>"
      ]
    },
    {
      "cell_type": "markdown",
      "metadata": {
        "id": "v45fg9bmLJvZ"
      },
      "source": [
        "# Testes - Temperatura\n",
        "\n",
        "Una vez que los datos son alistados, se realiza el análisis de testes. \n",
        "\n",
        "Para temperatura, se consideran los siguientes testes:\n",
        "\n",
        "- Test de rango fijo\n",
        "- Tests de consistencia interna\n",
        "- Test de ceros\n",
        "- Test para el salto térmico diario\n",
        "- Tests de rango dinámico, consistencia temporal, persistencia y coherencia espacial"
      ]
    },
    {
      "cell_type": "code",
      "metadata": {
        "id": "EoapCLMALJvj",
        "outputId": "d1edfb22-3b78-4beb-d4f4-65e8a29b119b",
        "colab": {
          "base_uri": "https://localhost:8080/"
        }
      },
      "source": [
        "import pandas as pd\n",
        "import numpy as np\n",
        "import os\n",
        "import re\n",
        "from functools import reduce\n",
        "\n",
        "from google.colab import drive\n",
        "drive.mount('/content/drive')\n",
        "\n",
        "%matplotlib inline"
      ],
      "execution_count": 1,
      "outputs": [
        {
          "output_type": "stream",
          "text": [
            "Mounted at /content/drive\n"
          ],
          "name": "stdout"
        }
      ]
    },
    {
      "cell_type": "code",
      "metadata": {
        "id": "nrp0DLfHLJvl"
      },
      "source": [
        "PATH_DRIVE = 'drive/MyDrive/Seminario-3-master'\n",
        "PATH_DADOS = '/preprocess/dados/'\n",
        "NOMBRE_ESTACION = 'chucuri'\n",
        "\n",
        "PATH_FINAL_DADOS = PATH_DRIVE + PATH_DADOS + NOMBRE_ESTACION + '/'\n",
        "PATH_FINAL_DADOS_TRATADOS = PATH_DRIVE + PATH_DADOS + NOMBRE_ESTACION + '/tratados/'\n",
        "\n",
        "FILE_DATOS_PROCESADOS = NOMBRE_ESTACION.lower() + '_procesado.csv'\n",
        "FILE_DATOS_TRATADOS = NOMBRE_ESTACION.lower() + '_tratados_temp.csv'\n"
      ],
      "execution_count": 19,
      "outputs": []
    },
    {
      "cell_type": "code",
      "metadata": {
        "id": "SNvEHyC4LJvp",
        "outputId": "61818574-e251-4c81-bd02-3180db879ea3",
        "colab": {
          "base_uri": "https://localhost:8080/",
          "height": 424
        }
      },
      "source": [
        "df = pd.read_csv(PATH_FINAL_DADOS + FILE_DATOS_PROCESADOS, \n",
        "                 sep = ';', \n",
        "                 parse_dates = [\"FECHA\"],\n",
        "                 date_parser = lambda col: pd.to_datetime(col)\n",
        "                )\n",
        "\n",
        "dfTemp = df[['FECHA', 'TEMP']].copy()\n",
        "dfTemp = dfTemp.sort_values(by=['FECHA']).reset_index(drop = True)\n",
        "dfTemp"
      ],
      "execution_count": 3,
      "outputs": [
        {
          "output_type": "execute_result",
          "data": {
            "text/html": [
              "<div>\n",
              "<style scoped>\n",
              "    .dataframe tbody tr th:only-of-type {\n",
              "        vertical-align: middle;\n",
              "    }\n",
              "\n",
              "    .dataframe tbody tr th {\n",
              "        vertical-align: top;\n",
              "    }\n",
              "\n",
              "    .dataframe thead th {\n",
              "        text-align: right;\n",
              "    }\n",
              "</style>\n",
              "<table border=\"1\" class=\"dataframe\">\n",
              "  <thead>\n",
              "    <tr style=\"text-align: right;\">\n",
              "      <th></th>\n",
              "      <th>FECHA</th>\n",
              "      <th>TEMP</th>\n",
              "    </tr>\n",
              "  </thead>\n",
              "  <tbody>\n",
              "    <tr>\n",
              "      <th>0</th>\n",
              "      <td>2011-01-01 01:00:00-05:00</td>\n",
              "      <td>20.6</td>\n",
              "    </tr>\n",
              "    <tr>\n",
              "      <th>1</th>\n",
              "      <td>2011-01-01 02:00:00-05:00</td>\n",
              "      <td>20.4</td>\n",
              "    </tr>\n",
              "    <tr>\n",
              "      <th>2</th>\n",
              "      <td>2011-01-01 03:00:00-05:00</td>\n",
              "      <td>20.2</td>\n",
              "    </tr>\n",
              "    <tr>\n",
              "      <th>3</th>\n",
              "      <td>2011-01-01 04:00:00-05:00</td>\n",
              "      <td>19.4</td>\n",
              "    </tr>\n",
              "    <tr>\n",
              "      <th>4</th>\n",
              "      <td>2011-01-01 05:00:00-05:00</td>\n",
              "      <td>19.2</td>\n",
              "    </tr>\n",
              "    <tr>\n",
              "      <th>...</th>\n",
              "      <td>...</td>\n",
              "      <td>...</td>\n",
              "    </tr>\n",
              "    <tr>\n",
              "      <th>50278</th>\n",
              "      <td>2017-12-31 19:00:00-05:00</td>\n",
              "      <td>20.7</td>\n",
              "    </tr>\n",
              "    <tr>\n",
              "      <th>50279</th>\n",
              "      <td>2017-12-31 20:00:00-05:00</td>\n",
              "      <td>20.5</td>\n",
              "    </tr>\n",
              "    <tr>\n",
              "      <th>50280</th>\n",
              "      <td>2017-12-31 21:00:00-05:00</td>\n",
              "      <td>20.4</td>\n",
              "    </tr>\n",
              "    <tr>\n",
              "      <th>50281</th>\n",
              "      <td>2017-12-31 22:00:00-05:00</td>\n",
              "      <td>20.8</td>\n",
              "    </tr>\n",
              "    <tr>\n",
              "      <th>50282</th>\n",
              "      <td>2017-12-31 23:00:00-05:00</td>\n",
              "      <td>20.6</td>\n",
              "    </tr>\n",
              "  </tbody>\n",
              "</table>\n",
              "<p>50283 rows × 2 columns</p>\n",
              "</div>"
            ],
            "text/plain": [
              "                          FECHA  TEMP\n",
              "0     2011-01-01 01:00:00-05:00  20.6\n",
              "1     2011-01-01 02:00:00-05:00  20.4\n",
              "2     2011-01-01 03:00:00-05:00  20.2\n",
              "3     2011-01-01 04:00:00-05:00  19.4\n",
              "4     2011-01-01 05:00:00-05:00  19.2\n",
              "...                         ...   ...\n",
              "50278 2017-12-31 19:00:00-05:00  20.7\n",
              "50279 2017-12-31 20:00:00-05:00  20.5\n",
              "50280 2017-12-31 21:00:00-05:00  20.4\n",
              "50281 2017-12-31 22:00:00-05:00  20.8\n",
              "50282 2017-12-31 23:00:00-05:00  20.6\n",
              "\n",
              "[50283 rows x 2 columns]"
            ]
          },
          "metadata": {
            "tags": []
          },
          "execution_count": 3
        }
      ]
    },
    {
      "cell_type": "markdown",
      "metadata": {
        "id": "UJPKton4LJvq"
      },
      "source": [
        "## Test de rango fijo"
      ]
    },
    {
      "cell_type": "code",
      "metadata": {
        "id": "boKo7L2yLJvr",
        "outputId": "7b133943-42e6-43e9-e3e5-1561366a76ec",
        "colab": {
          "base_uri": "https://localhost:8080/",
          "height": 424
        }
      },
      "source": [
        "t_max = 50.\n",
        "t_min = 15.\n",
        "lamb_func = lambda r: np.nan if ((r > t_max) | (r < t_min)) else r\n",
        "dfTemp['TEMP_RANGO_FIJO'] = dfTemp['TEMP'].apply(lamb_func)\n",
        "dfTemp"
      ],
      "execution_count": 4,
      "outputs": [
        {
          "output_type": "execute_result",
          "data": {
            "text/html": [
              "<div>\n",
              "<style scoped>\n",
              "    .dataframe tbody tr th:only-of-type {\n",
              "        vertical-align: middle;\n",
              "    }\n",
              "\n",
              "    .dataframe tbody tr th {\n",
              "        vertical-align: top;\n",
              "    }\n",
              "\n",
              "    .dataframe thead th {\n",
              "        text-align: right;\n",
              "    }\n",
              "</style>\n",
              "<table border=\"1\" class=\"dataframe\">\n",
              "  <thead>\n",
              "    <tr style=\"text-align: right;\">\n",
              "      <th></th>\n",
              "      <th>FECHA</th>\n",
              "      <th>TEMP</th>\n",
              "      <th>TEMP_RANGO_FIJO</th>\n",
              "    </tr>\n",
              "  </thead>\n",
              "  <tbody>\n",
              "    <tr>\n",
              "      <th>0</th>\n",
              "      <td>2011-01-01 01:00:00-05:00</td>\n",
              "      <td>20.6</td>\n",
              "      <td>20.6</td>\n",
              "    </tr>\n",
              "    <tr>\n",
              "      <th>1</th>\n",
              "      <td>2011-01-01 02:00:00-05:00</td>\n",
              "      <td>20.4</td>\n",
              "      <td>20.4</td>\n",
              "    </tr>\n",
              "    <tr>\n",
              "      <th>2</th>\n",
              "      <td>2011-01-01 03:00:00-05:00</td>\n",
              "      <td>20.2</td>\n",
              "      <td>20.2</td>\n",
              "    </tr>\n",
              "    <tr>\n",
              "      <th>3</th>\n",
              "      <td>2011-01-01 04:00:00-05:00</td>\n",
              "      <td>19.4</td>\n",
              "      <td>19.4</td>\n",
              "    </tr>\n",
              "    <tr>\n",
              "      <th>4</th>\n",
              "      <td>2011-01-01 05:00:00-05:00</td>\n",
              "      <td>19.2</td>\n",
              "      <td>19.2</td>\n",
              "    </tr>\n",
              "    <tr>\n",
              "      <th>...</th>\n",
              "      <td>...</td>\n",
              "      <td>...</td>\n",
              "      <td>...</td>\n",
              "    </tr>\n",
              "    <tr>\n",
              "      <th>50278</th>\n",
              "      <td>2017-12-31 19:00:00-05:00</td>\n",
              "      <td>20.7</td>\n",
              "      <td>20.7</td>\n",
              "    </tr>\n",
              "    <tr>\n",
              "      <th>50279</th>\n",
              "      <td>2017-12-31 20:00:00-05:00</td>\n",
              "      <td>20.5</td>\n",
              "      <td>20.5</td>\n",
              "    </tr>\n",
              "    <tr>\n",
              "      <th>50280</th>\n",
              "      <td>2017-12-31 21:00:00-05:00</td>\n",
              "      <td>20.4</td>\n",
              "      <td>20.4</td>\n",
              "    </tr>\n",
              "    <tr>\n",
              "      <th>50281</th>\n",
              "      <td>2017-12-31 22:00:00-05:00</td>\n",
              "      <td>20.8</td>\n",
              "      <td>20.8</td>\n",
              "    </tr>\n",
              "    <tr>\n",
              "      <th>50282</th>\n",
              "      <td>2017-12-31 23:00:00-05:00</td>\n",
              "      <td>20.6</td>\n",
              "      <td>20.6</td>\n",
              "    </tr>\n",
              "  </tbody>\n",
              "</table>\n",
              "<p>50283 rows × 3 columns</p>\n",
              "</div>"
            ],
            "text/plain": [
              "                          FECHA  TEMP  TEMP_RANGO_FIJO\n",
              "0     2011-01-01 01:00:00-05:00  20.6             20.6\n",
              "1     2011-01-01 02:00:00-05:00  20.4             20.4\n",
              "2     2011-01-01 03:00:00-05:00  20.2             20.2\n",
              "3     2011-01-01 04:00:00-05:00  19.4             19.4\n",
              "4     2011-01-01 05:00:00-05:00  19.2             19.2\n",
              "...                         ...   ...              ...\n",
              "50278 2017-12-31 19:00:00-05:00  20.7             20.7\n",
              "50279 2017-12-31 20:00:00-05:00  20.5             20.5\n",
              "50280 2017-12-31 21:00:00-05:00  20.4             20.4\n",
              "50281 2017-12-31 22:00:00-05:00  20.8             20.8\n",
              "50282 2017-12-31 23:00:00-05:00  20.6             20.6\n",
              "\n",
              "[50283 rows x 3 columns]"
            ]
          },
          "metadata": {
            "tags": []
          },
          "execution_count": 4
        }
      ]
    },
    {
      "cell_type": "code",
      "metadata": {
        "id": "XDr-x4YSLJvs",
        "outputId": "3f6c80d7-c44c-4223-9c61-9676205d9af3",
        "colab": {
          "base_uri": "https://localhost:8080/",
          "height": 296
        }
      },
      "source": [
        "ax = dfTemp.plot(kind = 'scatter', x='FECHA', y='TEMP')\n",
        "dfTemp.plot(kind = 'scatter', x='FECHA', y='TEMP_RANGO_FIJO', ax=ax, color='red')"
      ],
      "execution_count": 5,
      "outputs": [
        {
          "output_type": "execute_result",
          "data": {
            "text/plain": [
              "<matplotlib.axes._subplots.AxesSubplot at 0x7f861fc47a10>"
            ]
          },
          "metadata": {
            "tags": []
          },
          "execution_count": 5
        },
        {
          "output_type": "display_data",
          "data": {
            "image/png": "[encoded data removed]",
            "text/plain": [
              "<Figure size 432x288 with 1 Axes>"
            ]
          },
          "metadata": {
            "tags": [],
            "needs_background": "light"
          }
        }
      ]
    },
    {
      "cell_type": "code",
      "metadata": {
        "id": "6tVKAxI_LJvu",
        "outputId": "ad69bbfb-e44f-4594-c23e-5303892ea06a",
        "colab": {
          "base_uri": "https://localhost:8080/"
        }
      },
      "source": [
        "dfTemp['FECHA_DIA'] = dfTemp['FECHA'].dt.date\n",
        "dfAux = (dfTemp.groupby('FECHA_DIA')\n",
        "       .agg({'TEMP_RANGO_FIJO': ['mean', 'min', 'max']})\n",
        "       .reset_index(level = [0])\n",
        ")\n",
        "dfAux = (dfAux.sort_values(by = 'FECHA_DIA'))\n",
        "dfAux['TEMP_MAX_D_1'] = (dfAux[('TEMP_RANGO_FIJO', 'max')].shift(1))\n",
        "dfAux['TEMP_MIN_D_1'] = (dfAux[('TEMP_RANGO_FIJO', 'min')].shift(1))\n",
        "\n",
        "dfCons = (pd.merge(dfTemp,dfAux,on='FECHA_DIA', how='outer')\n",
        "            .rename(columns = {('TEMP_RANGO_FIJO', 'mean') : 'TEMP_PROM_DIARIA',\n",
        "                                 ('TEMP_RANGO_FIJO', 'min') : 'TEMP_MIN_DIARIA',\n",
        "                                 ('TEMP_RANGO_FIJO', 'max') : 'TEMP_MAX_DIARIA',\n",
        "                                 ('TEMP_MAX_D_1', ''): 'TEMP_MAX_D_1',\n",
        "                              ('TEMP_MIN_D_1', ''): 'TEMP_MIN_D_1',})\n",
        "        )\n",
        "dfCons['FECHA_DIA'] = dfCons['FECHA_DIA'].apply(lambda x: x.strftime('%Y-%m-%d'))\n",
        "dfCons['TEMP_SH_2'] = (dfCons['TEMP'].shift(1))\n",
        "dfCons['TEMP_SH_4'] = (dfCons['TEMP'].shift(2))\n",
        "dfCons['TEMP_SH_6'] = (dfCons['TEMP'].shift(3))\n",
        "\n",
        "dfCons['FORM_2_30'] = np.where((dfCons['TEMP_MAX_DIARIA'] > dfCons['TEMP_PROM_DIARIA']) \n",
        "                                    & (dfCons['TEMP_MIN_DIARIA'] < dfCons['TEMP_PROM_DIARIA']), 1, 0)\n",
        "\n",
        "ant_null_act_notnull = lambda df, t_act, t_ant: ~df[t_act].isnull() & df[t_ant].isnull()\n",
        "ant_notnull_act_notnull = lambda df, t_act, t_ant: ~df[t_act].isnull() & ~df[t_ant].isnull()\n",
        "\n",
        "dfCons['FORM_2_33'] = np.where( (dfCons['FORM_2_30'] == 1) & ((ant_null_act_notnull(dfCons, 'TEMP_MAX_DIARIA', 'TEMP_MIN_D_1')) | (dfCons['TEMP_MAX_DIARIA'] > dfCons['TEMP_MIN_D_1'])), 1, 0)\n",
        "dfCons['FORM_2_34'] = np.where( (dfCons['FORM_2_33'] == 1) & ((ant_null_act_notnull(dfCons, 'TEMP_MIN_DIARIA', 'TEMP_MAX_D_1')) | (dfCons['TEMP_MIN_DIARIA'] <= dfCons['TEMP_MAX_D_1'])), 1, 0)\n",
        "dfCons['FORM_2_35'] = np.where( (dfCons['FORM_2_34'] == 1) & (dfCons['TEMP_MAX_DIARIA'] - dfCons['TEMP_MIN_DIARIA'] < 23.8), 1, 0)\n",
        "# Ecuación 2.36 --> Si ya tenemos los valores dentro de un rango, para que verificar si tengo tres dias seguidos con t min = 0?\n",
        "\n",
        "dfCons['FORM_2_37'] = (np.where((dfCons['FORM_2_35'] == 1) & \n",
        "                                ((ant_null_act_notnull(dfCons, 'TEMP', 'TEMP_SH_2')) | \n",
        "                                 (((~dfCons['TEMP_SH_2'].isnull()) & (~dfCons['TEMP'].isnull())) & \n",
        "                                  (np.abs(dfCons['TEMP'] - dfCons['TEMP_SH_2']) < 4))), 1, 0))\n",
        "\n",
        "dfCons['TO_LIST'] = dfCons[['TEMP', 'TEMP_SH_2', 'TEMP_SH_4', 'TEMP_SH_6']].values.tolist()\n",
        "\n",
        "check_size_list = lambda r: 1 if len(list(set([str(x) for x in r]))) == 4 else 0\n",
        "\n",
        "dfCons['NO_REPETIDO'] = dfCons['TO_LIST'].apply(check_size_list)\n",
        "dfCons['FORM_2_38'] = np.where( (dfCons['FORM_2_37'] == 1) & (dfCons['NO_REPETIDO'] == 1), 1, 0)\n",
        "\n",
        "####  Quedamos en la formula 2.38 #####\n",
        "\n",
        "# dfCons.loc[dfCons['FECHA_DIA'].isin(['2011-02-04', '2011-02-03'])][['FECHA', 'TEMP', 'TEMP_SH_2', 'TEMP_SH_4', 'TEMP_SH_6', 'TO_LIST', 'NO_REPETIDO', 'FORM_2_37', 'FORM_2_38']]"
      ],
      "execution_count": 22,
      "outputs": [
        {
          "output_type": "stream",
          "text": [
            "/usr/local/lib/python3.7/dist-packages/pandas/core/reshape/merge.py:643: UserWarning: merging between different levels can give an unintended result (1 levels on the left,2 on the right)\n",
            "  warnings.warn(msg, UserWarning)\n",
            "/usr/local/lib/python3.7/dist-packages/pandas/core/generic.py:3889: PerformanceWarning: dropping on a non-lexsorted multi-index without a level parameter may impact performance.\n",
            "  obj = obj._drop_axis(labels, axis, level=level, errors=errors)\n"
          ],
          "name": "stderr"
        }
      ]
    },
    {
      "cell_type": "code",
      "metadata": {
        "id": "vv7-Fem0MgOy",
        "outputId": "638013c6-2a36-4d88-a97a-14cdae3155e3",
        "colab": {
          "base_uri": "https://localhost:8080/"
        }
      },
      "source": [
        "# dfCons.shape\n",
        "# dfFinal.shape"
      ],
      "execution_count": 13,
      "outputs": [
        {
          "output_type": "execute_result",
          "data": {
            "text/plain": [
              "(50283, 20)"
            ]
          },
          "metadata": {
            "tags": []
          },
          "execution_count": 13
        }
      ]
    },
    {
      "cell_type": "code",
      "metadata": {
        "id": "tOyVI0YvMKj-"
      },
      "source": [
        "# dfFinal = dfCons[dfCons['FORM_2_38'] == 1]\n",
        "# dfFinal "
      ],
      "execution_count": 21,
      "outputs": []
    },
    {
      "cell_type": "code",
      "metadata": {
        "id": "2hoa0fdKLJvv"
      },
      "source": [
        "dfFinal[['FECHA', 'TEMP']].to_csv(PATH_FINAL_DADOS_TRATADOS + FILE_DATOS_TRATADOS, header=True, index=False, sep = ';')"
      ],
      "execution_count": 20,
      "outputs": []
    }
  ]
}